{
 "cells": [
  {
   "cell_type": "code",
   "execution_count": null,
   "id": "b9f2fee1",
   "metadata": {},
   "outputs": [],
   "source": [
    "#importing libraries\n",
    "import numpy as np\n",
    "import pandas as pd\n",
    "import matplotlib.pyplot as plt\n",
    "from sklearn.model_selection import cross_val_score,train_test_split\n",
    "from sklearn.model_selection import GridSearchCV\n",
    "\n",
    "from sklearn.linear_model import LinearRegression\n",
    "from sklearn.linear_model import Ridge\n",
    "from sklearn.linear_model import Lasso\n",
    "\n",
    "from sklearn.ensemble import RandomForestRegressor\n",
    "from sklearn.ensemble import BaggingRegressor\n",
    "from sklearn.metrics import mean_squared_error"
   ]
  },
  {
   "cell_type": "code",
   "execution_count": null,
   "id": "060a6854",
   "metadata": {},
   "outputs": [],
   "source": [
    "#reading the dataset and converting it into a dataframe\n",
    "df=pd.read_csv('https://raw.githubusercontent.com/dsrscientist/dataset1/master/abalone.csv')\n",
    "df.head()"
   ]
  },
  {
   "cell_type": "markdown",
   "id": "876cdaae",
   "metadata": {},
   "source": [
    "# Exporatory Data Analysis(EDA)"
   ]
  },
  {
   "cell_type": "code",
   "execution_count": null,
   "id": "b1eca5d7",
   "metadata": {},
   "outputs": [],
   "source": [
    "#lets check dimension of dataset\n",
    "df.shape\n"
   ]
  },
  {
   "cell_type": "markdown",
   "id": "3f0b1c79",
   "metadata": {},
   "source": [
    "There are 4177 rows and 9 columns in dataset"
   ]
  },
  {
   "cell_type": "code",
   "execution_count": null,
   "id": "49f3920b",
   "metadata": {},
   "outputs": [],
   "source": [
    "#lets check for any null values\n",
    "df.isnull().sum()"
   ]
  },
  {
   "cell_type": "markdown",
   "id": "6a5acd84",
   "metadata": {},
   "source": [
    "There are no null values in the dataset"
   ]
  },
  {
   "cell_type": "code",
   "execution_count": null,
   "id": "fd20c41d",
   "metadata": {},
   "outputs": [],
   "source": [
    "#statistical information\n",
    "df.describe()\n"
   ]
  },
  {
   "cell_type": "markdown",
   "id": "848232db",
   "metadata": {},
   "source": [
    "We can see that there is no much difference between mean and 50%(2nd quartile)."
   ]
  },
  {
   "cell_type": "code",
   "execution_count": null,
   "id": "84b8798e",
   "metadata": {},
   "outputs": [],
   "source": [
    "#checking datatypes\n",
    "df.info()"
   ]
  },
  {
   "cell_type": "markdown",
   "id": "2db3862e",
   "metadata": {},
   "source": [
    "we can see that all columns are of float datatype except \"sex\" which is of Object datatype and 'Rings' which is of integer datatype"
   ]
  },
  {
   "cell_type": "code",
   "execution_count": null,
   "id": "46b866a5",
   "metadata": {},
   "outputs": [],
   "source": [
    "#data visualization\n",
    "plt.figure(figsize=(21,7))\n",
    "plt.scatter(df['Length'],df['Rings'])\n",
    "plt.xlabel(\"Length of Abalone(mm)\")\n",
    "plt.ylabel(\"Number of rings\")\n",
    "plt.show()"
   ]
  },
  {
   "cell_type": "markdown",
   "id": "9a2a23ae",
   "metadata": {},
   "source": [
    "We can observe some kind of positive relationship in this"
   ]
  },
  {
   "cell_type": "code",
   "execution_count": null,
   "id": "f54811d9",
   "metadata": {},
   "outputs": [],
   "source": [
    "plt.figure(figsize=(21,7))\n",
    "plt.scatter(df['Height'],df['Rings'])\n",
    "plt.xlabel(\"Height of Abalone(mm)\")\n",
    "plt.ylabel(\"Number of rings\")\n",
    "plt.show()"
   ]
  },
  {
   "cell_type": "markdown",
   "id": "5e7b751e",
   "metadata": {},
   "source": [
    "We can see 2 outliers in this scatter plot. Relationship is positive"
   ]
  },
  {
   "cell_type": "markdown",
   "id": "1b8fa012",
   "metadata": {},
   "source": [
    "# Feature Engineering"
   ]
  },
  {
   "cell_type": "code",
   "execution_count": null,
   "id": "05a3bcf7",
   "metadata": {},
   "outputs": [],
   "source": [
    "# one-hot encoding -> lets convert the 'sex' column into a integer datatype\n",
    "encoded_df=pd.get_dummies(df)\n",
    "encoded_df.head()"
   ]
  },
  {
   "cell_type": "markdown",
   "id": "9df3966a",
   "metadata": {},
   "source": [
    "WE can see that columns are added in our dataset. Whatever is the sex it will put '1' in that column. It means if the sex is male then Sex_M column will have value as 1, if sex is female then Sex_F will have the value as 1 and if the abdalone is an infant then Sex_I will have a value as 1"
   ]
  },
  {
   "cell_type": "markdown",
   "id": "fe307619",
   "metadata": {},
   "source": [
    "# Model building"
   ]
  },
  {
   "cell_type": "code",
   "execution_count": null,
   "id": "3c9220c6",
   "metadata": {},
   "outputs": [],
   "source": [
    "training_set=encoded_df.iloc[:4099,:]\n",
    "validation_set=encoded_df.iloc[4099:,:]"
   ]
  },
  {
   "cell_type": "code",
   "execution_count": null,
   "id": "ecdc3d52",
   "metadata": {},
   "outputs": [],
   "source": [
    "training_set.shape"
   ]
  },
  {
   "cell_type": "markdown",
   "id": "13c0eadf",
   "metadata": {},
   "source": [
    "Our training set has 4099 rows and all 11 columns"
   ]
  },
  {
   "cell_type": "code",
   "execution_count": null,
   "id": "805eefab",
   "metadata": {},
   "outputs": [],
   "source": [
    "validation_set.shape"
   ]
  },
  {
   "cell_type": "markdown",
   "id": "88ff459b",
   "metadata": {},
   "source": [
    "Our validation set has 78 rows and 11 columns"
   ]
  },
  {
   "cell_type": "code",
   "execution_count": null,
   "id": "249e34bf",
   "metadata": {},
   "outputs": [],
   "source": [
    "x=training_set[['Length','Height']]\n",
    "y=training_set[['Rings']].values.reshape(-1,1)\n",
    "\n",
    "x_val=validation_set[['Length','Height']]\n",
    "y_val=validation_set['Rings'].values.reshape(-1,1)"
   ]
  },
  {
   "cell_type": "markdown",
   "id": "26ae99b5",
   "metadata": {},
   "source": [
    "validation set will give us an idea that how our model will predict for unseen data"
   ]
  },
  {
   "cell_type": "code",
   "execution_count": null,
   "id": "dc6a8fa3",
   "metadata": {},
   "outputs": [],
   "source": [
    "#spliting dataset into features and target variables\n",
    "x_train,x_test,y_train,y_test=train_test_split(x,y,test_size=0.1,random_state=42)"
   ]
  },
  {
   "cell_type": "code",
   "execution_count": null,
   "id": "5391f700",
   "metadata": {},
   "outputs": [],
   "source": [
    "#multiple Regression\n",
    "lin_reg=LinearRegression()\n",
    "lin_reg.fit(x_train,y_train)\n",
    "\n",
    "#test RMSE\n",
    "lin_reg_pred=lin_reg.predict(x_test)\n",
    "test_rmse=mean_squared_error(y_test,lin_reg_pred,squared=False)\n",
    "\n",
    "print(\"Test RMSE=\",test_rmse)\n",
    "\n",
    "#validation RMSE\n",
    "lin_reg_pred_val=lin_reg.predict(x_val)\n",
    "val_rmse=mean_squared_error(y_val,lin_reg_pred_val,squared=False)\n",
    "print(\"Validation RMSE=\",val_rmse)"
   ]
  },
  {
   "cell_type": "markdown",
   "id": "9316f513",
   "metadata": {},
   "source": [
    "So our Test RMSE is 2.57 and validation RMSE is 1.57"
   ]
  },
  {
   "cell_type": "code",
   "execution_count": null,
   "id": "13a14092",
   "metadata": {},
   "outputs": [],
   "source": [
    "#multiple linear regression with regularization(Ridge Regression)\n",
    "ridge=Ridge()\n",
    "parameters={'alpha':[1e-15,1e-10,1e-8,1e-4,1e-3,1e-2,1,5,10,20]}\n",
    "ridge_regressor = GridSearchCV(ridge,parameters,scoring='neg_root_mean_squared_error',cv=5)\n",
    "ridge_regressor.fit(x_train,y_train)\n",
    "\n",
    "print(ridge_regressor.best_params_)\n",
    "print(-ridge_regressor.best_score_)"
   ]
  },
  {
   "cell_type": "markdown",
   "id": "11aaf29a",
   "metadata": {},
   "source": [
    "It is saying that best parameter is alpha =1. Lets retrain our model"
   ]
  },
  {
   "cell_type": "code",
   "execution_count": null,
   "id": "a00d54b2",
   "metadata": {},
   "outputs": [],
   "source": [
    "ridge_reg=Ridge(alpha=1)\n",
    "ridge_reg.fit(x_train,y_train)\n",
    "\n",
    "\n",
    "#test RMSE\n",
    "ridge_reg_pred=ridge_reg.predict(x_test)\n",
    "test_rmse=mean_squared_error(y_test,ridge_reg_pred,squared=False)\n",
    "\n",
    "print(\"Test RMSE=\",test_rmse)\n",
    "\n",
    "#validation RMSE\n",
    "ridge_reg_pred_val=ridge_reg.predict(x_val)\n",
    "val_rmse=mean_squared_error(y_val,ridge_reg_pred_val,squared=False)\n",
    "print(\"Validation RMSE=\",val_rmse)\n"
   ]
  },
  {
   "cell_type": "markdown",
   "id": "ab4c75cb",
   "metadata": {},
   "source": [
    "So our Test RMSE is 2.58 and validation RMSE is 1.56. This model(with ridge regression) is slightly better than the previous model (with linear regreesion)"
   ]
  },
  {
   "cell_type": "markdown",
   "id": "955580ba",
   "metadata": {},
   "source": [
    "# Multiple linear regression lasso"
   ]
  },
  {
   "cell_type": "code",
   "execution_count": null,
   "id": "404fced6",
   "metadata": {},
   "outputs": [],
   "source": [
    "lasso=Lasso()\n",
    "parameters={'alpha':[1e-15,1e-10,1e-8,1e-4,1e-3,1e-2,1,5,10,20]}\n",
    "lasso_regressor = GridSearchCV(lasso,parameters,scoring='neg_root_mean_squared_error',cv=5)\n",
    "lasso_regressor.fit(x_train,y_train)\n",
    "\n",
    "print(lasso_regressor.best_params_)\n",
    "print(-lasso_regressor.best_score_)"
   ]
  },
  {
   "cell_type": "code",
   "execution_count": null,
   "id": "5d568d32",
   "metadata": {},
   "outputs": [],
   "source": [
    "lasso_reg=Lasso(alpha=0.01)\n",
    "lasso_reg.fit(x_train,y_train)\n",
    "\n",
    "\n",
    "#test RMSE\n",
    "lasso_reg_pred=lasso_reg.predict(x_test)\n",
    "test_rmse=mean_squared_error(y_test,lasso_reg_pred,squared=False)\n",
    "\n",
    "print(\"Test RMSE=\",test_rmse)\n",
    "\n",
    "#validation RMSE\n",
    "lasso_reg_pred_val=lasso_reg.predict(x_val)\n",
    "val_rmse=mean_squared_error(y_val,lasso_reg_pred_val,squared=False)\n",
    "print(\"Validation RMSE=\",val_rmse)\n"
   ]
  },
  {
   "cell_type": "markdown",
   "id": "053fee17",
   "metadata": {},
   "source": [
    "Now, lets try some other models which are tree based. In these models, we will be considering only 'Height', 'Weight' and 'Sex' of abadalone as features and target variables will be 'Rings'"
   ]
  },
  {
   "cell_type": "code",
   "execution_count": null,
   "id": "b6b94d47",
   "metadata": {},
   "outputs": [],
   "source": [
    "# Tree based model\n",
    "x = training_set.drop(['Rings','Diameter','Whole weight','Shucked weight','Viscera weight','Shell weight'],axis=1)\n",
    "y = training_set['Rings'].values.reshape(-1,1)\n",
    "\n",
    "x_val= validation_set.drop(['Rings','Diameter','Whole weight','Shucked weight','Viscera weight','Shell weight'],axis=1)\n",
    "y_val = training_set['Rings'].values.reshape(-1,1)\n"
   ]
  },
  {
   "cell_type": "code",
   "execution_count": null,
   "id": "e271f88c",
   "metadata": {},
   "outputs": [],
   "source": [
    "x_train,x_test,y_train,y_test =train_test_split(x,y,test_size=0.1,random_state=42)"
   ]
  },
  {
   "cell_type": "markdown",
   "id": "03bd90ed",
   "metadata": {},
   "source": [
    "# Random forest regressor"
   ]
  },
  {
   "cell_type": "code",
   "execution_count": null,
   "id": "b65b39ee",
   "metadata": {},
   "outputs": [],
   "source": [
    "rf=RandomForestRegressor()\n",
    "parameters = {'n_estimators': [int(x) for x in np.linspace(100,1000,10)]}\n",
    "rf_regressor=GridSearchCV(rf,parameters, scoring='neg_mean_squared_error',cv=5)\n",
    "rf_regressor.fit(x_train,y_train.ravel())\n",
    "print(rf_regressor.best_params_)\n",
    "print(-rf_regressor.best_score_)"
   ]
  },
  {
   "cell_type": "code",
   "execution_count": null,
   "id": "1e6e09e8",
   "metadata": {},
   "outputs": [],
   "source": [
    "rf_reg=RandomForestRegressor(n_estimators=300)\n",
    "rf_reg.fit(x_train,y_train.ravel())\n",
    "\n",
    "\n",
    "#test RMSE\n",
    "rf_reg_pred=rf_reg.predict(x_test)\n",
    "test_rmse=mean_squared_error(y_test,rf_reg_pred,squared=False)\n",
    "\n",
    "print(\"Test RMSE=\",test_rmse)\n",
    "\n",
    "#validation RMSE\n",
    "rf_reg_pred_val=rf_reg.predict(x_val)\n",
    "val_rmse=mean_squared_error(y_val,rf_reg_pred_val,squared=False)\n",
    "print(\"Validation RMSE=\",val_rmse)\n"
   ]
  },
  {
   "cell_type": "code",
   "execution_count": null,
   "id": "bbb80326",
   "metadata": {},
   "outputs": [],
   "source": [
    "###Bagging"
   ]
  },
  {
   "cell_type": "code",
   "execution_count": null,
   "id": "07d9b733",
   "metadata": {},
   "outputs": [],
   "source": [
    "bg=BaggingRegressor()\n",
    "parameters = {'n_estimators': [int(x) for x in np.linspace(100,1000,10)],\n",
    "               'max_samples':[float(x) for x in np.arange(0.1,1.1,0.1)]}\n",
    "bg_regressor=GridSearchCV(bg,parameters,scoring='neg_mean_squared_error',cv=5)\n",
    "bg_regressor.fit(x_train,y_train.ravel())\n",
    "print(bg_regressor.best_params_)\n",
    "print(-bg_regressor.best_score_)"
   ]
  },
  {
   "cell_type": "code",
   "execution_count": null,
   "id": "864f83f9",
   "metadata": {},
   "outputs": [],
   "source": [
    "bg_reg=BaggingRegressor(n_estimators=670,max_samples=0.1)\n",
    "bg_reg.fit(x_train,y_train.ravel())\n",
    "\n",
    "\n",
    "#test RMSE\n",
    "bg_reg_pred=bg_reg.predict(x_test)\n",
    "test_rmse=mean_squared_error(y_test,bg_reg_pred,squared=False)\n",
    "\n",
    "print(\"Test RMSE=\",test_rmse)\n",
    "\n",
    "#validation RMSE\n",
    "bg_reg_pred_val=bg_reg.predict(x_val)\n",
    "val_rmse=mean_squared_error(y_val,bg_reg_pred_val,squared=False)\n",
    "print(\"Validation RMSE=\",val_rmse)\n"
   ]
  },
  {
   "cell_type": "code",
   "execution_count": null,
   "id": "2e59c5d9",
   "metadata": {},
   "outputs": [],
   "source": [
    "model_eval={\n",
    "    'model':['Linear','Ridge','LAsso','random Forest','bagging'],\n",
    "    'RMSE':[1.5661783782311625,1.5640813253014876,1.5563831232308813,2.2334,1.5097]\n",
    "}\n",
    "\n",
    "df_val=pd.DataFrame(data=model_eval)\n",
    "df_val"
   ]
  },
  {
   "cell_type": "markdown",
   "id": "e48d4f0d",
   "metadata": {},
   "source": [
    "RandomForestregressor is working better as comapred other regression model"
   ]
  },
  {
   "cell_type": "code",
   "execution_count": null,
   "id": "3c42b967",
   "metadata": {},
   "outputs": [],
   "source": []
  },
  {
   "cell_type": "code",
   "execution_count": null,
   "id": "75c75e5f",
   "metadata": {},
   "outputs": [],
   "source": []
  },
  {
   "cell_type": "code",
   "execution_count": null,
   "id": "ca0f272b",
   "metadata": {},
   "outputs": [],
   "source": []
  },
  {
   "cell_type": "code",
   "execution_count": null,
   "id": "d781424d",
   "metadata": {},
   "outputs": [],
   "source": []
  },
  {
   "cell_type": "code",
   "execution_count": null,
   "id": "8b93d65a",
   "metadata": {},
   "outputs": [],
   "source": []
  }
 ],
 "metadata": {
  "kernelspec": {
   "display_name": "Python 3",
   "language": "python",
   "name": "python3"
  },
  "language_info": {
   "codemirror_mode": {
    "name": "ipython",
    "version": 3
   },
   "file_extension": ".py",
   "mimetype": "text/x-python",
   "name": "python",
   "nbconvert_exporter": "python",
   "pygments_lexer": "ipython3",
   "version": "3.8.8"
  }
 },
 "nbformat": 4,
 "nbformat_minor": 5
}
